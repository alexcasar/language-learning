{
 "cells": [
  {
   "cell_type": "code",
   "execution_count": 1,
   "metadata": {},
   "outputs": [],
   "source": [
    "# !/usr/bin/env python3\n",
    "\n",
    "#cd ~/Desktop/snet/gits/lang-learn-repo/alex_tests\n",
    "#python waveify.py ~/Desktop/snet/gits/lang-learn-repo/alex_tests/data testname\n",
    "\n",
    "import os\n",
    "import numpy as np\n",
    "import pandas as pd\n",
    "import matplotlib.pyplot as plt\n",
    "import pylab\n",
    "import sys  \n",
    "import subprocess\n",
    "import pywt as pywt\n"
   ]
  },
  {
   "cell_type": "code",
   "execution_count": 2,
   "metadata": {},
   "outputs": [],
   "source": [
    "def plot_signal_decomp(data, w, title):\n",
    "    w = pywt.Wavelet(w)\n",
    "    a = data\n",
    "    ca = []\n",
    "    cd = []\n",
    "    for i in range(10):\n",
    "        (a, d) = pywt.dwt(a, w, mode)\n",
    "        ca.append(a)\n",
    "        cd.append(d)\n",
    "    \n",
    "    ff = np.fft.fft(data)\n",
    "    \n",
    "    rec_a = []\n",
    "    rec_d = []\n",
    "\n",
    "    for i, coeff in enumerate(ca):\n",
    "        coeff_list = [coeff, None] + [None] * i\n",
    "        #print(coeff_list)\n",
    "        rec_a.append(pywt.waverec(coeff_list, w))\n",
    "\n",
    "    for i, coeff in enumerate(cd):\n",
    "        coeff_list = [None, coeff] + [None] * i\n",
    "        #print(coeff_list)\n",
    "        rec_d.append(pywt.waverec(coeff_list, w))\n",
    "\n",
    "    fig = plt.figure(figsize=(20,10))\n",
    "    ax_main = fig.add_subplot(len(rec_a) + 2, 1, 1)\n",
    "    ax_main.set_title(title)\n",
    "    ax_main.plot(data)\n",
    "    ax_main.set_xlim(0, len(data) - 1)\n",
    "    \n",
    "    ax = fig.add_subplot(len(rec_a) + 2, 1, 2)\n",
    "    ax.plot(ff)\n",
    "    ax.set_xlim(0, len(ff) - 1)\n",
    "\n",
    "    for i, y in enumerate(rec_a):\n",
    "        ax = fig.add_subplot(len(rec_a) + 2, 2, 5 + i * 2)\n",
    "        ax.plot(y, 'r')\n",
    "        ax.set_xlim(0, len(y) - 1)\n",
    "        ax.set_ylabel(\"A%d\" % (i + 1))\n",
    "\n",
    "    for i, y in enumerate(rec_d):\n",
    "        ax = fig.add_subplot(len(rec_d) + 2, 2, 6 + i * 2)\n",
    "        ax.plot(y, 'g')\n",
    "        ax.set_xlim(0, len(y) - 1)\n",
    "        ax.set_ylabel(\"D%d\" % (i + 1)) \n",
    "    return rec_a, rec_d"
   ]
  },
  {
   "cell_type": "code",
   "execution_count": null,
   "metadata": {},
   "outputs": [],
   "source": [
    "path = '~/Desktop/snet/gits/lang-learn-repo/alex_tests/data'\n",
    "filename = 'bgpclear_first'\n",
    "\n",
    "mode = pywt.Modes.smooth\n",
    "\n",
    "doc = pd.read_csv(path+\"/\"+filename+\"/\"+filename+\"_raw.csv\") "
   ]
  },
  {
   "cell_type": "code",
   "execution_count": null,
   "metadata": {},
   "outputs": [],
   "source": [
    "varnames = doc.columns\n",
    "v = varnames[0]\n",
    "#for v in varnames[:-1]:\n",
    "item = list(doc['vrf__update-messages-received_spine4'])\n",
    "\n",
    "a,b = plot_signal_decomp(item, 'sym14', v)"
   ]
  },
  {
   "cell_type": "code",
   "execution_count": null,
   "metadata": {},
   "outputs": [],
   "source": [
    "ff = np.fft.fft(item)\n",
    "pylab.subplot(2,2,1)\n",
    "pylab.plot(ff)\n",
    "fig.show()"
   ]
  },
  {
   "cell_type": "code",
   "execution_count": null,
   "metadata": {},
   "outputs": [],
   "source": [
    "varnames = doc.columns\n",
    "v = varnames[2]\n",
    "#for v in varnames[:-1]:\n",
    "item = list(doc[v])\n",
    "\n",
    "a,b = plot_signal_decomp(item, 'sym14', v)"
   ]
  },
  {
   "cell_type": "code",
   "execution_count": null,
   "metadata": {},
   "outputs": [],
   "source": [
    "varnames = doc.columns\n",
    "v = varnames[3]\n",
    "#for v in varnames[:-1]:\n",
    "item = list(doc[v])\n",
    "\n",
    "a,b = plot_signal_decomp(item, 'sym14', v)"
   ]
  },
  {
   "cell_type": "code",
   "execution_count": null,
   "metadata": {},
   "outputs": [],
   "source": [
    "pylab.subplot(2,2,1)\n",
    "pylab.plot(item)"
   ]
  },
  {
   "cell_type": "code",
   "execution_count": null,
   "metadata": {},
   "outputs": [],
   "source": [
    "ff = np.fft.fft(item)\n",
    "pylab.subplot(2,2,1)\n",
    "pylab.plot(ff)\n",
    "fig.show()"
   ]
  },
  {
   "cell_type": "code",
   "execution_count": null,
   "metadata": {},
   "outputs": [],
   "source": [
    "varnames = doc.columns\n",
    "v = varnames[10]\n",
    "#for v in varnames[:-1]:\n",
    "item = list(doc[v])\n",
    "\n",
    "a,b = plot_signal_decomp(item, 'sym14', v)"
   ]
  },
  {
   "cell_type": "code",
   "execution_count": null,
   "metadata": {},
   "outputs": [],
   "source": [
    "varnames = doc.columns\n",
    "v = varnames[15]\n",
    "#for v in varnames[:-1]:\n",
    "item = list(doc[v])\n",
    "\n",
    "a,b = plot_signal_decomp(item, 'sym14', v)"
   ]
  },
  {
   "cell_type": "code",
   "execution_count": null,
   "metadata": {},
   "outputs": [],
   "source": [
    "varnames = doc.columns\n",
    "v = varnames[20]\n",
    "#for v in varnames[:-1]:\n",
    "item = list(doc[v])\n",
    "\n",
    "a,b = plot_signal_decomp(item, 'sym14', v)"
   ]
  },
  {
   "cell_type": "code",
   "execution_count": null,
   "metadata": {},
   "outputs": [],
   "source": [
    "varnames = doc.columns\n",
    "v = varnames[25]\n",
    "#for v in varnames[:-1]:\n",
    "item = list(doc[v])\n",
    "\n",
    "a,b = plot_signal_decomp(item, 'sym14', v)"
   ]
  },
  {
   "cell_type": "code",
   "execution_count": null,
   "metadata": {},
   "outputs": [],
   "source": [
    "varnames = doc.columns\n",
    "v = varnames[30]\n",
    "#for v in varnames[:-1]:\n",
    "item = list(doc[v])\n",
    "\n",
    "a,b = plot_signal_decomp(item, 'sym14', v)"
   ]
  },
  {
   "cell_type": "code",
   "execution_count": null,
   "metadata": {},
   "outputs": [],
   "source": [
    "varnames = doc.columns\n",
    "v = varnames[35]\n",
    "#for v in varnames[:-1]:\n",
    "item = list(doc[v])\n",
    "\n",
    "a,b = plot_signal_decomp(item, 'sym14', v)"
   ]
  },
  {
   "cell_type": "code",
   "execution_count": null,
   "metadata": {},
   "outputs": [],
   "source": [
    "varnames = doc.columns\n",
    "v = varnames[40]\n",
    "#for v in varnames[:-1]:\n",
    "item = list(doc[v])\n",
    "\n",
    "a,b = plot_signal_decomp(item, 'sym14', v)"
   ]
  },
  {
   "cell_type": "code",
   "execution_count": null,
   "metadata": {},
   "outputs": [],
   "source": [
    "varnames = doc.columns\n",
    "v = varnames[45]\n",
    "#for v in varnames[:-1]:\n",
    "item = list(doc[v])\n",
    "\n",
    "a,b = plot_signal_decomp(item, 'sym14', v)"
   ]
  },
  {
   "cell_type": "code",
   "execution_count": null,
   "metadata": {},
   "outputs": [],
   "source": [
    "varnames = doc.columns\n",
    "v = varnames[50]\n",
    "#for v in varnames[:-1]:\n",
    "item = list(doc[v])\n",
    "\n",
    "a,b = plot_signal_decomp(item, 'sym14', v)"
   ]
  },
  {
   "cell_type": "code",
   "execution_count": null,
   "metadata": {},
   "outputs": [],
   "source": []
  }
 ],
 "metadata": {
  "kernelspec": {
   "display_name": "Python 3",
   "language": "python",
   "name": "python3"
  },
  "language_info": {
   "codemirror_mode": {
    "name": "ipython",
    "version": 3
   },
   "file_extension": ".py",
   "mimetype": "text/x-python",
   "name": "python",
   "nbconvert_exporter": "python",
   "pygments_lexer": "ipython3",
   "version": "3.7.4"
  }
 },
 "nbformat": 4,
 "nbformat_minor": 2
}
