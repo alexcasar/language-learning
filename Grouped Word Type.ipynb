{
 "cells": [
  {
   "cell_type": "code",
   "execution_count": 1,
   "metadata": {},
   "outputs": [],
   "source": [
    "# !/usr/bin/env python3\n",
    "\n",
    "#cd ~/Desktop/snet/gits/lang-learn-repo/alex_tests\n",
    "\n",
    "import os\n",
    "import numpy as np\n",
    "import pandas as pd\n",
    "import matplotlib.pyplot as plt\n",
    "import pylab\n",
    "import sys  \n",
    "import subprocess\n",
    "import pywt as pywt\n",
    "\n",
    "from sklearn.cluster import KMeans\n",
    "from sklearn import metrics\n",
    "from sklearn.metrics import pairwise_distances\n",
    "from sklearn import datasets"
   ]
  },
  {
   "cell_type": "code",
   "execution_count": 2,
   "metadata": {},
   "outputs": [],
   "source": [
    "path = '~/Desktop/snet/gits/lang-learn-repo/alex_tests/data'\n",
    "filenames = ['data11']\n"
   ]
  },
  {
   "cell_type": "code",
   "execution_count": 3,
   "metadata": {},
   "outputs": [],
   "source": [
    "#for filename in filenames:\n",
    "filename = filenames[0]\n",
    "doc = pd.read_csv(path+\"/\"+filename+\"/\"+filename+\".csv\") \n",
    "grouped = pd.read_csv(path+\"/\"+filename+\"/\"+filename+\"_PCA_3_3.csv\") \n",
    "clst = pd.read_csv(path+\"/\"+filename+\"/\"+filename+\"_clusters.csv\")"
   ]
  },
  {
   "cell_type": "code",
   "execution_count": 13,
   "metadata": {},
   "outputs": [
    {
     "name": "stdout",
     "output_type": "stream",
     "text": [
      "         sym0  sym1  sym2  sym3  sym4  sym5  sym6\n",
      "anomaly                                          \n",
      "0         270   270   270   270   270   270   270\n",
      "1         883   883   883   883   883   883   883\n"
     ]
    }
   ],
   "source": [
    "grouped['anomaly']=list(doc['anomaly'])\n",
    "print(grouped.groupby(by='anomaly').count())"
   ]
  },
  {
   "cell_type": "code",
   "execution_count": 5,
   "metadata": {},
   "outputs": [],
   "source": [
    "groupedAno = grouped[grouped['anomaly']==1]\n",
    "groupedAnoN = grouped[grouped['anomaly']==0]\n"
   ]
  },
  {
   "cell_type": "code",
   "execution_count": 11,
   "metadata": {},
   "outputs": [
    {
     "name": "stdout",
     "output_type": "stream",
     "text": [
      "anomaly\n",
      "sym3\n",
      "R0     103\n",
      "R1     108\n",
      "R10      3\n",
      "R11     14\n",
      "R12     12\n",
      "R13     60\n",
      "R14     91\n",
      "R15      2\n",
      "R16      4\n",
      "R17      6\n",
      "R2       2\n",
      "R20    126\n",
      "R24    208\n",
      "R25      2\n",
      "R26     33\n",
      "R3      20\n",
      "R4      82\n",
      "R5       7\n",
      "Name: sym0, dtype: int64\n",
      "non anomaly\n",
      "sym3\n",
      "R0      3\n",
      "R1     22\n",
      "R10     1\n",
      "R11     6\n",
      "R12     5\n",
      "R13     5\n",
      "R14    60\n",
      "R15    29\n",
      "R16    58\n",
      "R17    28\n",
      "R26    12\n",
      "R3      2\n",
      "R4     38\n",
      "R9      1\n",
      "Name: sym0, dtype: int64\n"
     ]
    }
   ],
   "source": [
    "gby='sym3'\n",
    "print('anomaly')\n",
    "print(groupedAno.groupby(by=gby).count().iloc[:,0])\n",
    "print('non anomaly')\n",
    "print(groupedAnoN.groupby(by=gby).count().iloc[:,0])"
   ]
  },
  {
   "cell_type": "code",
   "execution_count": null,
   "metadata": {},
   "outputs": [],
   "source": []
  }
 ],
 "metadata": {
  "kernelspec": {
   "display_name": "Python 3",
   "language": "python",
   "name": "python3"
  },
  "language_info": {
   "codemirror_mode": {
    "name": "ipython",
    "version": 3
   },
   "file_extension": ".py",
   "mimetype": "text/x-python",
   "name": "python",
   "nbconvert_exporter": "python",
   "pygments_lexer": "ipython3",
   "version": "3.7.4"
  }
 },
 "nbformat": 4,
 "nbformat_minor": 2
}
